{
  "nbformat": 4,
  "nbformat_minor": 0,
  "metadata": {
    "colab": {
      "name": "xor2020.ipynb",
      "provenance": [],
      "collapsed_sections": []
    },
    "kernelspec": {
      "name": "python3",
      "display_name": "Python 3"
    }
  },
  "cells": [
    {
      "cell_type": "code",
      "metadata": {
        "id": "4-jqZ5R2BwL2",
        "outputId": "5c94fd50-48a9-495f-e7b8-366ca9f814c3",
        "colab": {
          "base_uri": "https://localhost:8080/",
          "height": 153
        }
      },
      "source": [
        "import numpy as np\n",
        "import tensorflow as tf\n",
        "from tensorflow.keras.models import Sequential\n",
        "from tensorflow.keras.layers import  Dense\n",
        "from tensorflow.keras import optimizers\n",
        "\n",
        "training_data = np.array([[0,0],[0,1],[1,0],[1,1]])\n",
        "target_data = np.array([[0],[1],[1],[0]])\n",
        "\n",
        "# Two inputs, two hidden units and 1 output\n",
        "model = Sequential()\n",
        "model.add(Dense(2, input_dim=2, activation='tanh'))\n",
        "model.add(Dense(1, activation='sigmoid'))\n",
        "sgd = optimizers.SGD(lr=0.01,  momentum=0.8)\n",
        "model.compile(loss='mean_squared_error', optimizer='sgd', metrics=['accuracy'])\n",
        "# You will change number of epochs. You will want to use verbose=2 to see\n",
        "# results for each epoch sometimes but it is very slow\n",
        "#model.fit(training_data, target_data, epochs=200, verbose=2)\n",
        "print(\"Xor Starting\")\n",
        "model.fit(training_data, target_data, epochs=200,verbose=0)\n",
        "\n",
        "print( model.predict(training_data.round()))\n",
        "print( model.get_weights())"
      ],
      "execution_count": 3,
      "outputs": [
        {
          "output_type": "stream",
          "text": [
            "Xor Starting\n",
            "[[0.4863063]\n",
            " [0.566226 ]\n",
            " [0.504214 ]\n",
            " [0.5814719]]\n",
            "[array([[-0.31227213,  0.05717034],\n",
            "       [ 0.30476913,  0.49186772]], dtype=float32), array([ 0.00538093, -0.01993331], dtype=float32), array([[-0.09333549],\n",
            "       [ 0.75879186]], dtype=float32), array([-0.03916301], dtype=float32)]\n"
          ],
          "name": "stdout"
        }
      ]
    }
  ]
}